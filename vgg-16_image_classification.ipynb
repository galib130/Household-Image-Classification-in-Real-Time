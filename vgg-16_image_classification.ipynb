{
  "metadata": {
    "colab": {
      "provenance": []
    },
    "kernelspec": {
      "name": "python3",
      "display_name": "Python 3",
      "language": "python"
    },
    "language_info": {
      "name": "python",
      "version": "3.7.12",
      "mimetype": "text/x-python",
      "codemirror_mode": {
        "name": "ipython",
        "version": 3
      },
      "pygments_lexer": "ipython3",
      "nbconvert_exporter": "python",
      "file_extension": ".py"
    }
  },
  "nbformat_minor": 0,
  "nbformat": 4,
  "cells": [
    {
      "cell_type": "code",
      "source": [],
      "metadata": {
        "id": "ZA_RfAw-vjeI"
      },
      "execution_count": null,
      "outputs": []
    },
    {
      "cell_type": "markdown",
      "source": [
        "# **NOTEBOOK FOR MACHINE LEARNING PROJECT**"
      ],
      "metadata": {
        "id": "08rRRqvAu4Vs"
      }
    },
    {
      "cell_type": "code",
      "source": [
        "# This Python 3 environment comes with many helpful analytics libraries installed\n",
        "# It is defined by the kaggle/python docker image: https://github.com/kaggle/docker-python\n",
        "# For example, here's several helpful packages to load in \n",
        "import numpy as np # linear algebra\n",
        "import pandas as pd # data processing, CSV file I/O (e.g. pd.read_csv)\n",
        "\n",
        "\n",
        "# Input data files are available in the \"../input/\" directory.\n",
        "# For example, running this (by clicking run or pressing Shift+Enter) will list all files under the input directory\n",
        "\n",
        "import os\n",
        "for dirname, _, filenames in os.walk('/kaggle/input'):\n",
        "    for filename in filenames:\n",
        "        print(os.path.join(dirname, filename))\n",
        "\n",
        "# Any results you write to the current directory are saved as output."
      ],
      "metadata": {
        "_uuid": "8f2839f25d086af736a60e9eeb907d3b93b6e0e5",
        "_cell_guid": "b1076dfc-b9ad-4769-8c92-a6c4dae69d19",
        "id": "DWQkXp4qu4Vu",
        "execution": {
          "iopub.status.busy": "2023-02-23T15:05:48.307472Z",
          "iopub.execute_input": "2023-02-23T15:05:48.308191Z",
          "iopub.status.idle": "2023-02-23T15:05:53.878256Z",
          "shell.execute_reply.started": "2023-02-23T15:05:48.308064Z",
          "shell.execute_reply": "2023-02-23T15:05:53.877208Z"
        },
        "scrolled": true,
        "trusted": true
      },
      "execution_count": null,
      "outputs": []
    },
    {
      "cell_type": "markdown",
      "source": [
        "**Importing Necessary Librarires**"
      ],
      "metadata": {
        "id": "3qrgB-TXu4Vw"
      }
    },
    {
      "cell_type": "code",
      "source": [
        "import tensorflow as tf\n",
        "from tensorflow import keras\n",
        "from keras.preprocessing.image import ImageDataGenerator \n",
        "from tensorflow.keras.utils import img_to_array,load_img\n",
        "from keras.models import Sequential\n",
        "from keras.layers import Dense, Dropout, Activation, Flatten\n",
        "from keras.layers import Conv2D, MaxPooling2D\n",
        "from keras import backend as K\n",
        "from keras.optimizers import Adam, SGD, Adadelta, Adamax\n",
        "from keras.metrics import categorical_crossentropy\n",
        "from keras.models import load_model\n",
        "from PIL import Image, ImageFile\n",
        "from matplotlib import pyplot as plt\n",
        "from keras.applications import ResNet50\n",
        "from tensorflow.keras.applications.mobilenet_v2 import MobileNetV2\n",
        "from tensorflow.keras.applications.vgg16 import VGG16\n",
        "from tensorflow.python.keras.models import Sequential\n",
        "from tensorflow.python.keras.layers import Dense\n",
        "ImageFile.LOAD_TRUNCATED_IMAGES = True\n",
        "tf.test.gpu_device_name()"
      ],
      "metadata": {
        "_uuid": "d629ff2d2480ee46fbb7e2d37f6b5fab8052498a",
        "_cell_guid": "79c7e3d0-c299-4dcb-8224-4455121ee9b0",
        "id": "Ym5t4DBDu4Vx",
        "outputId": "4d73db70-2094-4ade-8593-8497a0614e4a",
        "colab": {
          "base_uri": "https://localhost:8080/",
          "height": 373
        },
        "execution": {
          "iopub.status.busy": "2023-02-23T15:16:38.734473Z",
          "iopub.execute_input": "2023-02-23T15:16:38.734847Z",
          "iopub.status.idle": "2023-02-23T15:16:40.884817Z",
          "shell.execute_reply.started": "2023-02-23T15:16:38.734818Z",
          "shell.execute_reply": "2023-02-23T15:16:40.884159Z"
        },
        "trusted": true
      },
      "execution_count": null,
      "outputs": [
        {
          "execution_count": 5,
          "output_type": "execute_result",
          "data": {
            "text/plain": "'/device:GPU:0'"
          },
          "metadata": {}
        }
      ]
    },
    {
      "cell_type": "markdown",
      "source": [
        "**Providing the Train and Test image paths**"
      ],
      "metadata": {
        "id": "8sgwAEgFu4Vy"
      }
    },
    {
      "cell_type": "code",
      "source": [
        "train_path = '/kaggle/input/waste-pictures/train'\n",
        "test_path = '/kaggle/input/waste-pictures/test'"
      ],
      "metadata": {
        "id": "isy8ufJ_u4Vy",
        "execution": {
          "iopub.status.busy": "2023-02-23T15:16:51.078104Z",
          "iopub.execute_input": "2023-02-23T15:16:51.078489Z",
          "iopub.status.idle": "2023-02-23T15:16:51.083001Z",
          "shell.execute_reply.started": "2023-02-23T15:16:51.078460Z",
          "shell.execute_reply": "2023-02-23T15:16:51.081942Z"
        },
        "trusted": true
      },
      "execution_count": null,
      "outputs": []
    },
    {
      "cell_type": "markdown",
      "source": [
        "## **Data Preprocessing with some basic augmentation and preparing the images for input**"
      ],
      "metadata": {
        "id": "3f4rv894u4Vy"
      }
    },
    {
      "cell_type": "code",
      "source": [
        "IMAGE_SIZE = 224\n",
        "BATCH_SIZE = 128\n",
        "\n",
        "train_datagen = ImageDataGenerator(rescale=1./255, \n",
        "                                   rotation_range=30, \n",
        "                                   zoom_range = 0.3, \n",
        "                                   width_shift_range=0.2,\n",
        "                                   height_shift_range=0.2, \n",
        "                                   horizontal_flip = 'true')\n",
        "\n",
        "test_datagen = ImageDataGenerator(rescale=1./255, \n",
        "                                  rotation_range=30, \n",
        "                                  zoom_range = 0.3, \n",
        "                                  width_shift_range=0.2,\n",
        "                                  height_shift_range=0.2, \n",
        "                                  horizontal_flip = 'true')"
      ],
      "metadata": {
        "id": "Y3Z5qkZbu4Vz",
        "execution": {
          "iopub.status.busy": "2023-02-23T15:16:53.666614Z",
          "iopub.execute_input": "2023-02-23T15:16:53.666973Z",
          "iopub.status.idle": "2023-02-23T15:16:53.673672Z",
          "shell.execute_reply.started": "2023-02-23T15:16:53.666944Z",
          "shell.execute_reply": "2023-02-23T15:16:53.672543Z"
        },
        "trusted": true
      },
      "execution_count": null,
      "outputs": []
    },
    {
      "cell_type": "code",
      "source": [
        "train_generator = train_datagen.flow_from_directory(train_path, \n",
        "                                                    target_size=(IMAGE_SIZE, IMAGE_SIZE), \n",
        "                                                    batch_size=BATCH_SIZE, \n",
        "                                                    class_mode='categorical')\n",
        "\n",
        "test_generator = test_datagen.flow_from_directory(test_path, \n",
        "                                                    target_size=(IMAGE_SIZE, IMAGE_SIZE), \n",
        "                                                    batch_size=BATCH_SIZE, \n",
        "                                                    class_mode='categorical')"
      ],
      "metadata": {
        "id": "P4Hid__4u4Vz",
        "outputId": "2dcbac15-e898-451c-a17e-7c62a3b9ace4",
        "execution": {
          "iopub.status.busy": "2023-02-23T15:16:56.181993Z",
          "iopub.execute_input": "2023-02-23T15:16:56.182908Z",
          "iopub.status.idle": "2023-02-23T15:16:56.977506Z",
          "shell.execute_reply.started": "2023-02-23T15:16:56.182873Z",
          "shell.execute_reply": "2023-02-23T15:16:56.976530Z"
        },
        "trusted": true
      },
      "execution_count": null,
      "outputs": [
        {
          "name": "stdout",
          "text": "Found 17872 images belonging to 34 classes.\nFound 5756 images belonging to 34 classes.\n",
          "output_type": "stream"
        }
      ]
    },
    {
      "cell_type": "markdown",
      "source": [
        "**Creating the labels.txt file which will be used in the Application**"
      ],
      "metadata": {
        "id": "qMxDOOLVu4Vz"
      }
    },
    {
      "cell_type": "code",
      "source": [
        "print(train_generator.class_indices)\n",
        "labels = '\\n'.join(sorted(train_generator.class_indices.keys()))\n",
        "with open('labels.txt','w') as f:\n",
        "    f.write(labels)"
      ],
      "metadata": {
        "id": "9C1AYI7tu4V0",
        "outputId": "bab9ea81-e659-4720-e2ee-b615995d7508",
        "execution": {
          "iopub.status.busy": "2023-02-23T15:17:00.749954Z",
          "iopub.execute_input": "2023-02-23T15:17:00.750849Z",
          "iopub.status.idle": "2023-02-23T15:17:00.759123Z",
          "shell.execute_reply.started": "2023-02-23T15:17:00.750803Z",
          "shell.execute_reply": "2023-02-23T15:17:00.758053Z"
        },
        "trusted": true
      },
      "execution_count": null,
      "outputs": [
        {
          "name": "stdout",
          "text": "{'XLight': 0, 'bandaid': 1, 'battery': 2, 'bowlsanddishes': 3, 'bread': 4, 'bulb': 5, 'cans': 6, 'carton': 7, 'chopsticks': 8, 'cigarettebutt': 9, 'diapers': 10, 'facialmask': 11, 'glassbottle': 12, 'leaflet': 13, 'leftovers': 14, 'medicinebottle': 15, 'milkbox': 16, 'nailpolishbottle': 17, 'napkin': 18, 'newspaper': 19, 'nut': 20, 'penholder': 21, 'pesticidebottle': 22, 'plasticbag': 23, 'plasticbottle': 24, 'plasticene': 25, 'rag': 26, 'tabletcapsule': 27, 'thermometer': 28, 'toothbrush': 29, 'toothpastetube': 30, 'toothpick': 31, 'traditionalChinesemedicine': 32, 'watermelonrind': 33}\n",
          "output_type": "stream"
        }
      ]
    },
    {
      "cell_type": "markdown",
      "source": [
        "# **VGG16**"
      ],
      "metadata": {
        "id": "OYPr_fc8u4V0"
      }
    },
    {
      "cell_type": "markdown",
      "source": [
        "**Defining the VGG16 model which is pretrained using Imagenet Weights**"
      ],
      "metadata": {
        "id": "X66U5a2Yu4V0"
      }
    },
    {
      "cell_type": "code",
      "source": [
        "base_model_vgg16= tf.keras.applications.VGG16(\n",
        "    include_top=False,\n",
        "    weights=\"imagenet\",\n",
        "    input_shape=(IMAGE_SIZE,IMAGE_SIZE,3),\n",
        "    classes=1000\n",
        ")\n",
        "base_model_vgg16.trainable = False\n",
        "\n",
        "model_vgg16 = tf.keras.Sequential([\n",
        "    base_model_vgg16,\n",
        "    tf.keras.layers.Conv2D(64,3,activation = 'relu'),\n",
        "    tf.keras.layers.Dropout(.4),\n",
        "    tf.keras.layers.GlobalAveragePooling2D(),\n",
        "    tf.keras.layers.Dense(34,activation = 'softmax')\n",
        "])"
      ],
      "metadata": {
        "id": "T7FmOLE8u4V0",
        "outputId": "b84cfab1-53b0-468e-e586-1993e2fdfc14",
        "execution": {
          "iopub.status.busy": "2023-02-23T15:17:03.719638Z",
          "iopub.execute_input": "2023-02-23T15:17:03.720003Z",
          "iopub.status.idle": "2023-02-23T15:17:04.972952Z",
          "shell.execute_reply.started": "2023-02-23T15:17:03.719973Z",
          "shell.execute_reply": "2023-02-23T15:17:04.971990Z"
        },
        "trusted": true
      },
      "execution_count": null,
      "outputs": [
        {
          "name": "stdout",
          "text": "Downloading data from https://storage.googleapis.com/tensorflow/keras-applications/vgg16/vgg16_weights_tf_dim_ordering_tf_kernels_notop.h5\n58889256/58889256 [==============================] - 0s 0us/step\n",
          "output_type": "stream"
        }
      ]
    },
    {
      "cell_type": "markdown",
      "source": [
        "**Setting optimizers and learning rates**"
      ],
      "metadata": {
        "id": "EsNQpcTIu4V1"
      }
    },
    {
      "cell_type": "code",
      "source": [
        "modified_Adam = keras.optimizers.Adam(learning_rate=0.0001)\n",
        "model_vgg16.compile(loss='categorical_crossentropy',\n",
        "              optimizer=modified_Adam,\n",
        "              metrics=['accuracy'])"
      ],
      "metadata": {
        "id": "t6_BPraNu4V1",
        "execution": {
          "iopub.status.busy": "2023-02-23T15:17:08.603987Z",
          "iopub.execute_input": "2023-02-23T15:17:08.604592Z",
          "iopub.status.idle": "2023-02-23T15:17:08.622391Z",
          "shell.execute_reply.started": "2023-02-23T15:17:08.604556Z",
          "shell.execute_reply": "2023-02-23T15:17:08.621051Z"
        },
        "trusted": true
      },
      "execution_count": null,
      "outputs": []
    },
    {
      "cell_type": "code",
      "source": [
        "model_vgg16.summary()\n",
        "print('Base Model Layers:',len(base_model_vgg16.layers))"
      ],
      "metadata": {
        "id": "sPEQBy7iu4V1",
        "outputId": "568a5c63-32d7-4717-c524-b13e6f858870",
        "execution": {
          "iopub.status.busy": "2023-02-23T15:17:11.348464Z",
          "iopub.execute_input": "2023-02-23T15:17:11.349481Z",
          "iopub.status.idle": "2023-02-23T15:17:11.372203Z",
          "shell.execute_reply.started": "2023-02-23T15:17:11.349435Z",
          "shell.execute_reply": "2023-02-23T15:17:11.371417Z"
        },
        "trusted": true
      },
      "execution_count": null,
      "outputs": [
        {
          "name": "stdout",
          "text": "Model: \"sequential\"\n_________________________________________________________________\n Layer (type)                Output Shape              Param #   \n=================================================================\n vgg16 (Functional)          (None, 7, 7, 512)         14714688  \n                                                                 \n conv2d (Conv2D)             (None, 5, 5, 64)          294976    \n                                                                 \n dropout (Dropout)           (None, 5, 5, 64)          0         \n                                                                 \n global_average_pooling2d (G  (None, 64)               0         \n lobalAveragePooling2D)                                          \n                                                                 \n dense (Dense)               (None, 34)                2210      \n                                                                 \n=================================================================\nTotal params: 15,011,874\nTrainable params: 297,186\nNon-trainable params: 14,714,688\n_________________________________________________________________\nBase Model Layers: 19\n",
          "output_type": "stream"
        }
      ]
    },
    {
      "cell_type": "markdown",
      "source": [
        "**Defining Fine tuning layers**"
      ],
      "metadata": {
        "id": "_FzqB-FNu4V1"
      }
    },
    {
      "cell_type": "code",
      "source": [
        "base_model_vgg16.trainable = True\n",
        "fine_tune_layer = 15\n",
        "for layers in base_model_vgg16.layers[:fine_tune_layer]:\n",
        "    layers.trainable = False"
      ],
      "metadata": {
        "id": "z3n3ZWLvu4V1",
        "execution": {
          "iopub.status.busy": "2023-02-23T15:17:14.762957Z",
          "iopub.execute_input": "2023-02-23T15:17:14.763692Z",
          "iopub.status.idle": "2023-02-23T15:17:14.769897Z",
          "shell.execute_reply.started": "2023-02-23T15:17:14.763656Z",
          "shell.execute_reply": "2023-02-23T15:17:14.768710Z"
        },
        "trusted": true
      },
      "execution_count": null,
      "outputs": []
    },
    {
      "cell_type": "markdown",
      "source": [
        "**Fitting and Training the Model**"
      ],
      "metadata": {
        "id": "EYwW315gu4V2"
      }
    },
    {
      "cell_type": "code",
      "source": [
        "epochs = 25\n",
        "history_vgg16 = model_vgg16.fit_generator(train_generator, \n",
        "                    shuffle = True,\n",
        "                    epochs = epochs, \n",
        "                    validation_data = test_generator)"
      ],
      "metadata": {
        "id": "1j1DxLq-u4V2",
        "outputId": "3d8b097d-9655-418d-e129-1454f805f378",
        "execution": {
          "iopub.status.busy": "2023-02-23T15:17:21.429983Z",
          "iopub.execute_input": "2023-02-23T15:17:21.430601Z"
        },
        "trusted": true
      },
      "execution_count": null,
      "outputs": [
        {
          "name": "stderr",
          "text": "/opt/conda/lib/python3.7/site-packages/ipykernel_launcher.py:5: UserWarning: `Model.fit_generator` is deprecated and will be removed in a future version. Please use `Model.fit`, which supports generators.\n  \"\"\"\n",
          "output_type": "stream"
        },
        {
          "name": "stdout",
          "text": "Epoch 1/25\n  6/140 [>.............................] - ETA: 5:10 - loss: 3.5926 - accuracy: 0.0339",
          "output_type": "stream"
        },
        {
          "name": "stderr",
          "text": "/opt/conda/lib/python3.7/site-packages/PIL/TiffImagePlugin.py:845: UserWarning: Corrupt EXIF data.  Expecting to read 4 bytes but only got 0. \n  warnings.warn(str(msg))\n",
          "output_type": "stream"
        },
        {
          "name": "stdout",
          "text": "140/140 [==============================] - 569s 4s/step - loss: 2.8729 - accuracy: 0.2686 - val_loss: 2.5538 - val_accuracy: 0.3553\nEpoch 2/25\n140/140 [==============================] - 457s 3s/step - loss: 2.1662 - accuracy: 0.4479 - val_loss: 2.1760 - val_accuracy: 0.4427\nEpoch 3/25\n140/140 [==============================] - 459s 3s/step - loss: 1.9069 - accuracy: 0.4900 - val_loss: 1.9722 - val_accuracy: 0.4785\nEpoch 4/25\n140/140 [==============================] - 460s 3s/step - loss: 1.7695 - accuracy: 0.5166 - val_loss: 1.8613 - val_accuracy: 0.5045\nEpoch 5/25\n140/140 [==============================] - 458s 3s/step - loss: 1.6740 - accuracy: 0.5388 - val_loss: 1.7797 - val_accuracy: 0.5165\nEpoch 6/25\n 49/140 [=========>....................] - ETA: 3:37 - loss: 1.6134 - accuracy: 0.5551",
          "output_type": "stream"
        }
      ]
    },
    {
      "cell_type": "markdown",
      "source": [
        "**Plotting Training, Testing Loss and Accuracy**"
      ],
      "metadata": {
        "id": "mVhW5s_qu4V2"
      }
    },
    {
      "cell_type": "code",
      "source": [
        "plt.plot(history_vgg16.history['acc'])\n",
        "plt.plot(history_vgg16.history['val_acc'])\n",
        "plt.title('model accuracy')\n",
        "plt.ylabel('accuracy')\n",
        "plt.xlabel('epoch')\n",
        "plt.legend(['train', 'val'], loc='upper left')\n",
        "plt.show()"
      ],
      "metadata": {
        "execution": {
          "iopub.status.busy": "2022-05-15T12:26:12.553129Z",
          "iopub.execute_input": "2022-05-15T12:26:12.553564Z",
          "iopub.status.idle": "2022-05-15T12:26:12.816293Z",
          "shell.execute_reply.started": "2022-05-15T12:26:12.553387Z",
          "shell.execute_reply": "2022-05-15T12:26:12.815421Z"
        },
        "id": "KU1kQ_8Wu4V2",
        "outputId": "7424f319-ea07-4c86-f46c-58554f93f0f3",
        "trusted": true
      },
      "execution_count": null,
      "outputs": [
        {
          "output_type": "display_data",
          "data": {
            "text/plain": "<Figure size 432x288 with 1 Axes>",
            "image/png": "[encoded data removed]"
          },
          "metadata": {
            "needs_background": "light"
          }
        }
      ]
    },
    {
      "cell_type": "code",
      "source": [
        "plt.plot(history_vgg16.history['loss'])\n",
        "plt.plot(history_vgg16.history['val_loss'])\n",
        "plt.title('model loss')\n",
        "plt.ylabel('loss')\n",
        "plt.xlabel('epoch')\n",
        "plt.legend(['train', 'val'], loc='upper left')\n",
        "plt.show()"
      ],
      "metadata": {
        "execution": {
          "iopub.status.busy": "2022-05-15T12:26:12.821159Z",
          "iopub.execute_input": "2022-05-15T12:26:12.823289Z",
          "iopub.status.idle": "2022-05-15T12:26:13.029404Z",
          "shell.execute_reply.started": "2022-05-15T12:26:12.823232Z",
          "shell.execute_reply": "2022-05-15T12:26:13.028695Z"
        },
        "id": "XxY5mJMRu4V2",
        "outputId": "3358dfe2-6563-4f7b-e4fa-9deba25ebd1d",
        "trusted": true
      },
      "execution_count": null,
      "outputs": [
        {
          "output_type": "display_data",
          "data": {
            "text/plain": "<Figure size 432x288 with 1 Axes>",
            "image/png": "[encoded data removed]"
          },
          "metadata": {
            "needs_background": "light"
          }
        }
      ]
    },
    {
      "cell_type": "markdown",
      "source": [
        "**Saving our trained Models**"
      ],
      "metadata": {
        "id": "QsO3EGvLu4V3"
      }
    },
    {
      "cell_type": "code",
      "source": [
        "model_vgg16.save('model_vgg16.h5')"
      ],
      "metadata": {
        "execution": {
          "iopub.status.busy": "2022-05-15T12:26:13.033141Z",
          "iopub.execute_input": "2022-05-15T12:26:13.035384Z",
          "iopub.status.idle": "2022-05-15T12:26:13.273868Z",
          "shell.execute_reply.started": "2022-05-15T12:26:13.035318Z",
          "shell.execute_reply": "2022-05-15T12:26:13.273133Z"
        },
        "id": "Oxkq4uEku4V3",
        "trusted": true
      },
      "execution_count": null,
      "outputs": []
    }
  ]
}